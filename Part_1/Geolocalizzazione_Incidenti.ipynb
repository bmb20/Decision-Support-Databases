{
  "nbformat": 4,
  "nbformat_minor": 0,
  "metadata": {
    "colab": {
      "provenance": []
    },
    "kernelspec": {
      "name": "python3",
      "display_name": "Python 3"
    },
    "language_info": {
      "name": "python"
    }
  },
  "cells": [
    {
      "cell_type": "markdown",
      "source": [
        "Codice efficiente (6 minuti di esecuzione) per la geolocalizzazione degli incidenti."
      ],
      "metadata": {
        "id": "JiLvIWHQCJNb"
      }
    },
    {
      "cell_type": "code",
      "source": [
        "from geopy.distance import geodesic\n",
        "import csv\n",
        "\n",
        "#Funzione per calcolare la distanza tra due punti in base alle coordinate\n",
        "def calcola_distanza(coord1, coord2):\n",
        "    return geodesic(coord1, coord2).kilometers\n",
        "\n",
        "#lettura del dataset geografico utilizzato, il cui output è un dizionario con le informazioni sulle città\n",
        "city_info = {}\n",
        "with open('/content/new_uscities.csv', mode='r', encoding='utf-8') as uscities_file:\n",
        "    uscities_reader = csv.DictReader(uscities_file)\n",
        "    for row in uscities_reader:\n",
        "        lat = float(row['lat'])\n",
        "        lon = float(row['lng'])\n",
        "        #lat_group e lon_group rappresentano la parte \"intera\" dei valori della longitudine e latitudine associati alle città\n",
        "        #questi valori sono usati poi per determinare il gruppo di coordinate a cui appartiene l'incidente\n",
        "        lat_group = int(lat)\n",
        "        lon_group = int(lon)\n",
        "        #vede se il gruppo di coordinate è già presente nel dizionario city_info\n",
        "        if (lat_group, lon_group) not in city_info:\n",
        "          #se non è presente allora lo aggiunge con le relative informazioni sulla città\n",
        "          #ogni gruppo di coordinate è associato alla prima città trovata nel file che condivide le stesse coordinate\n",
        "            city_info[(lat_group, lon_group)] = {\n",
        "                'city': row['city'],\n",
        "                'state_name': row['state_name'],\n",
        "                'continent': row['timezone'],\n",
        "                'latitude': lat,\n",
        "                'longitude': lon\n",
        "            }\n",
        "\n",
        "#Lettura del file \"Police_final.csv\"  e apertura del file \"police_with_geoinfo\" per la scrittura dei risultati\n",
        "with open('/content/Police_final.csv', mode='r', encoding='utf-8') as police_file:\n",
        "    with open('/content/police_with_geoinfo.csv', mode='w', newline='', encoding='utf-8') as result_file:\n",
        "        police_reader = csv.DictReader(police_file)\n",
        "        #con fieldnames prendo i nomi degli attributi presenti nel file Police_final e ci aggiungo le tre colonne\n",
        "        #quindi fieldnames è la lista che contiene i nomi delle colonne del file\n",
        "        fieldnames = police_reader.fieldnames + ['city', 'state', 'continent']\n",
        "        result_writer = csv.DictWriter(result_file, fieldnames=fieldnames)\n",
        "        result_writer.writeheader()\n",
        "\n",
        "        #per ogni riga nel file police_final\n",
        "        for row in police_reader:\n",
        "            #prendo i valori delle coordinate\n",
        "            latitudine = float(row['latitude'])\n",
        "            longitudine = float(row['longitude'])\n",
        "\n",
        "            #prendo la parte intera che serve per trovare il gruppo di coordinate dell'incidente\n",
        "            lat_group_pol = int(latitudine)\n",
        "            lon_group_pol = int(longitudine)\n",
        "\n",
        "            #Cerca la città più vicina all'interno del gruppo\n",
        "            #closest_city è None inizialmente (prima della ricerca)\n",
        "            closest_city = None\n",
        "            #limite della distanza max entro cui una città è considerata come \"vicina\" e quindi candidata come città da considerare\n",
        "            max_distance = 100.0\n",
        "            #ciclo for per scorrere il dizionario che contiene le info sulla città più vicina all'interno di quel gruppo\n",
        "            #quindi per ogni gruppo di coordinate presente nel dizionario city_info\n",
        "            for (group_lat, group_lon), info in city_info.items():\n",
        "              #vede se il gruppo di coordinate corrente (di city_info) è abbastanza vicino al gruppo di coordinate dell'incidente\n",
        "              #il minore uguale a 1 serve per impostare la differenza pari ad 1 grado sia per latitudine sia per longitudine\n",
        "              #questo per ridurre la ricerca ai gruppi di coordinate che sono abbastanza vicini all'incidente\n",
        "                if abs(group_lat - lat_group_pol) <= 1 and abs(group_lon - lon_group_pol) <= 1:\n",
        "                  #mi calcola la distanza richiamando la funzione che utilizza la libreria geodesic\n",
        "                    distance = calcola_distanza((info['latitude'], info['longitude']), (latitudine, longitudine))\n",
        "                    #se la distanza è minore della massima allora associo a closest_city le informazioni della città presenti in \"info\"\n",
        "                    #aggiorno anche la distanza massima\n",
        "                    if distance < max_distance:\n",
        "                        closest_city = info\n",
        "                        max_distance = distance\n",
        "\n",
        "            #se è stata trovata una città più vicina all'incidente che soddisfa i criteri impostati, associo i valori alla riga corrente\n",
        "            if closest_city:\n",
        "                row['city'] = closest_city['city']\n",
        "                row['state'] = closest_city['state_name']\n",
        "                row['continent'] = closest_city['continent']\n",
        "\n",
        "            result_writer.writerow(row)"
      ],
      "metadata": {
        "id": "XxydxUQSQZaA"
      },
      "execution_count": 14,
      "outputs": []
    }
  ]
}
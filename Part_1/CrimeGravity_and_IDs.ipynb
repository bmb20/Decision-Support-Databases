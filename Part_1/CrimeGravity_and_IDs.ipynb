{
  "cells": [
    {
      "cell_type": "code",
      "execution_count": 8,
      "metadata": {
        "id": "OxuF5Zh0dlZ3"
      },
      "outputs": [],
      "source": [
        "import csv\n",
        "import json"
      ]
    },
    {
      "cell_type": "markdown",
      "metadata": {
        "id": "AGOHzpukNouz"
      },
      "source": [
        "Code to calculate Crime Gravity and then create a new file with Crime Gravity."
      ]
    },
    {
      "cell_type": "code",
      "execution_count": 9,
      "metadata": {
        "id": "ycYyO6ZWdB3B"
      },
      "outputs": [],
      "source": [
        "#apertura file json e caricamento dati da questi file\n",
        "with open('/content/dict_partecipant_age.json', 'r') as f1_file:\n",
        "    age_data = json.load(f1_file)\n",
        "\n",
        "with open('/content/dict_partecipant_status.json', 'r') as f2_file:\n",
        "    status_data = json.load(f2_file)\n",
        "\n",
        "with open('/content/dict_partecipant_type.json', 'r') as f3_file:\n",
        "    type_data = json.load(f3_file)\n",
        "\n",
        "#apertura file Police.csv in modalità lettura e  Police_temp.csv in modalità scrittura\n",
        "with open('/content/Police.csv', 'r') as input_file, open('/content/Police_temp.csv', 'w', newline='') as output_file:\n",
        "    csv_reader = csv.DictReader(input_file)\n",
        "\n",
        "    #Estrazione headers dal file csv di input\n",
        "    headers = csv_reader.fieldnames\n",
        "    headers.append('crime_gravity')  #aggiunta della nuova colonna crime_gravity\n",
        "\n",
        "    #Creazione del writer per il file csv di output\n",
        "    csv_writer = csv.DictWriter(output_file, fieldnames=headers)\n",
        "    csv_writer.writeheader()\n",
        "\n",
        "    for row in csv_reader:\n",
        "        #Estrazione dei valori dai campi dei record \n",
        "        participant_age = row['participant_age_group']\n",
        "        participant_type = row['participant_type']\n",
        "        participant_status = row['participant_status']\n",
        "\n",
        "        #calcolo crime_gravity usando i dati dei file json\n",
        "        crime_gravity = (\n",
        "            age_data.get(participant_age, 0) *\n",
        "            status_data.get(participant_status, 0) *\n",
        "            type_data.get(participant_type, 0)\n",
        "        )\n",
        "\n",
        "        #aggiunta del nuovo valore \n",
        "        row['crime_gravity'] = crime_gravity\n",
        "\n",
        "        #scrittura del recordo nel file csv di output\n",
        "        csv_writer.writerow(row)\n"
      ]
    },
    {
      "cell_type": "markdown",
      "metadata": {
        "id": "Q5DMMRpNPrVF"
      },
      "source": [
        "Code to add the missing_ids as foreign key in the Police file for the Custody table."
      ]
    },
    {
      "cell_type": "code",
      "execution_count": 10,
      "metadata": {
        "id": "BaCvyvZjL0-K"
      },
      "outputs": [],
      "source": [
        "def aggiungi_missingIDs(file_participant, file_gun, file_geography, file_police, file_output):\n",
        "    participant_data = {}\n",
        "    gun_data = {}\n",
        "    geography_data = {}\n",
        "\n",
        "    #Lettura file \"participant.csv\" e creazione di un dizionario con le colonne di confronto come chiave\n",
        "    with open(file_participant, 'r') as participant_file:\n",
        "        participant_reader = csv.DictReader(participant_file)\n",
        "        for row in participant_reader:\n",
        "            key = (row[\"participant_age_group\"], row[\"participant_status\"], row[\"participant_type\"], row[\"participant_gender\"])\n",
        "            participant_data[key] = row[\"participant_id\"]\n",
        "\n",
        "    #Lettura file \"gun.csv\" e creazione di un dizionario con le colonne di confronto come chiave\n",
        "    with open(file_gun, 'r') as gun_file:\n",
        "        gun_reader = csv.DictReader(gun_file)\n",
        "        for row in gun_reader:\n",
        "            key = (row[\"gun_stolen\"], row[\"gun_type\"])\n",
        "            gun_data[key] = row[\"gun_id\"]\n",
        "\n",
        "    #Lettura file \"geography.csv\" e creazione di un dizionario con le colonne di confronto come chiave\n",
        "    with open(file_geography, 'r') as geography_file:\n",
        "        geography_reader = csv.DictReader(geography_file)\n",
        "        for row in geography_reader:\n",
        "            key = (row[\"latitude\"], row[\"longitude\"])\n",
        "            geography_data[key] = row[\"geo_id\"]\n",
        "\n",
        "    #Apertura del file \"police.csv\" in modalità lettura\n",
        "    with open(file_police, 'r') as police_file:\n",
        "        police_reader = csv.DictReader(police_file)\n",
        "\n",
        "        #Prende l'intestazione dal file \"police.csv\" e aggiunge le nuove colonne\n",
        "        header = police_reader.fieldnames\n",
        "        header.extend([\"participant_id\", \"gun_id\", \"geo_id\"])\n",
        "\n",
        "        #Apertura file di output in modalità scrittura\n",
        "        with open(file_output, 'w', newline='') as output_file:\n",
        "            csv_writer = csv.DictWriter(output_file, fieldnames=header)\n",
        "            csv_writer.writeheader()\n",
        "\n",
        "            for row in police_reader:\n",
        "                participant_key = (row[\"participant_age_group\"], row[\"participant_status\"], row[\"participant_type\"], row[\"participant_gender\"])\n",
        "                gun_key = (row[\"gun_stolen\"], row[\"gun_type\"])\n",
        "                geography_key = (row[\"latitude\"], row[\"longitude\"])\n",
        "\n",
        "                #Aggiunta dei valori delle colonne \"participant_id\", \"gun_id\", e \"geography_id\" dai rispettivi dizionari\n",
        "                row[\"participant_id\"] = participant_data.get(participant_key, \"\")\n",
        "                row[\"gun_id\"] = gun_data.get(gun_key, \"\")\n",
        "                row[\"geo_id\"] = geography_data.get(geography_key, \"\")\n",
        "\n",
        "                csv_writer.writerow(row)\n",
        "#path dei file da utilizzare\n",
        "file_participant = \"/content/Participant.csv\"\n",
        "file_gun = \"/content/Gun.csv\"\n",
        "file_geography = \"/content/Geography.csv\"\n",
        "file_police = \"/content/Police_temp.csv\"\n",
        "file_output = \"/content/Police_final.csv\"\n",
        "#chiamata funzione\n",
        "aggiungi_missingIDs(file_participant, file_gun, file_geography, file_police, file_output)"
      ]
    }
  ],
  "metadata": {
    "colab": {
      "provenance": []
    },
    "kernelspec": {
      "display_name": "Python 3",
      "name": "python3"
    }
  },
  "nbformat": 4,
  "nbformat_minor": 0
}

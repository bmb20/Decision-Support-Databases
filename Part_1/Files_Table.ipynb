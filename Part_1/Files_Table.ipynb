{
  "cells": [
    {
      "cell_type": "markdown",
      "metadata": {
        "id": "-DUmLJVQrruw"
      },
      "source": [
        "File Partecipant"
      ]
    },
    {
      "cell_type": "code",
      "execution_count": 1,
      "metadata": {
        "id": "QHhDV6J9l412"
      },
      "outputs": [],
      "source": [
        "import csv\n",
        "\n",
        "def file_csv_partecipant(file_input, file_output):\n",
        "    #utilizzo di un set per tenere traccia delle righe distinte poichè il set è una struttura dati che può contenere solo valori unici\n",
        "    righe_distinte = set() \n",
        "    \n",
        "    #apertura file in modalità lettura\n",
        "    with open(file_input, 'r') as csv_file:\n",
        "        csv_reader = csv.DictReader(csv_file)\n",
        "\n",
        "        #aggiungo al set solo i record del file che si differenziano per gli attributi considerati di seguito \n",
        "        for riga in csv_reader:\n",
        "            chiave_distinta = (riga[\"participant_age_group\"], riga[\"participant_gender\"], riga[\"participant_status\"], riga[\"participant_type\"])\n",
        "            righe_distinte.add(chiave_distinta)\n",
        "\n",
        "    #apertura file di output in modalità scrittura \n",
        "    with open(file_output, 'w', newline='') as csv_output_file:\n",
        "        #scrittura intestazione file\n",
        "        fieldnames = [\"participant_age_group\", \"participant_gender\", \"participant_status\", \"participant_type\"]\n",
        "        csv_writer = csv.DictWriter(csv_output_file, fieldnames=fieldnames)\n",
        "        csv_writer.writeheader()\n",
        "\n",
        "        #scrittura righe del file\n",
        "        for chiave_distinta in righe_distinte:\n",
        "            attributo1, attributo2, attributo3, attributo4 = chiave_distinta\n",
        "            csv_writer.writerow({\"participant_age_group\": attributo1, \"participant_gender\": attributo2, \"participant_status\": attributo3, \"participant_type\": attributo4})\n",
        "\n",
        "#path dei file e chiamata di funzione\n",
        "file_input = \"/content/Police.csv\"\n",
        "file_output = \"/content/Participant_temp.csv\"\n",
        "file_csv_partecipant(file_input, file_output)\n"
      ]
    },
    {
      "cell_type": "code",
      "execution_count": 2,
      "metadata": {
        "id": "tH3F5h7erIOg"
      },
      "outputs": [],
      "source": [
        "#funzione per l'aggiunta della colonna partencipant_id al file precedentemente creato\n",
        "def aggiungi_participant_id(file_input, file_output):\n",
        "    with open(file_input, 'r') as csv_file:\n",
        "        csv_reader = csv.reader(csv_file)\n",
        "        header = next(csv_reader)  #lettura intestazione file\n",
        "        \n",
        "        righe = []\n",
        "        for i, riga in enumerate(csv_reader): #id generato con enumerate partendo da zero e incrementando di 1 ogni volta\n",
        "            participant_id = str(i)\n",
        "            righe.append([participant_id] + riga) #aggiunto ad ogni riga come primo attributo della riga \n",
        "\n",
        "    with open(file_output, 'w', newline='') as csv_output_file:\n",
        "        csv_writer = csv.writer(csv_output_file)\n",
        "        header.insert(0, \"participant_id\")  #Inserimento del nome della nuova colonna nell'intestazione\n",
        "        csv_writer.writerow(header)  # Scrittura dell'intestazione\n",
        "        \n",
        "        #scrittura delle righe\n",
        "        for riga in righe:\n",
        "            csv_writer.writerow(riga)\n",
        "\n",
        "#path dei file e chiamata di funzione\n",
        "file_input = \"/content/Participant_temp.csv\"\n",
        "file_output = \"/content/Participant.csv\"\n",
        "aggiungi_participant_id(file_input, file_output)\n"
      ]
    },
    {
      "cell_type": "markdown",
      "metadata": {
        "id": "0gUM8CEUrwQN"
      },
      "source": [
        "File Gun"
      ]
    },
    {
      "cell_type": "code",
      "execution_count": 3,
      "metadata": {
        "id": "oliAr8PYr0Ny"
      },
      "outputs": [],
      "source": [
        "def file_csv_gun(file_input, file_output):\n",
        "    righe_distinte = set() \n",
        "\n",
        "    with open(file_input, 'r') as csv_file:\n",
        "        csv_reader = csv.DictReader(csv_file)\n",
        "\n",
        "        for riga in csv_reader:\n",
        "            chiave_distinta = (riga[\"gun_stolen\"], riga[\"gun_type\"])\n",
        "            righe_distinte.add(chiave_distinta)\n",
        "\n",
        "    with open(file_output, 'w', newline='') as csv_output_file:\n",
        "        fieldnames = [\"gun_stolen\", \"gun_type\"]\n",
        "        csv_writer = csv.DictWriter(csv_output_file, fieldnames=fieldnames)\n",
        "        csv_writer.writeheader()\n",
        "\n",
        "        for chiave_distinta in righe_distinte:\n",
        "            attributo1, attributo2= chiave_distinta\n",
        "            csv_writer.writerow({\"gun_stolen\": attributo1, \"gun_type\": attributo2})\n",
        "\n",
        "\n",
        "file_input = \"/content/Police.csv\"\n",
        "file_output = \"/content/Gun_temp.csv\"\n",
        "file_csv_gun(file_input, file_output)"
      ]
    },
    {
      "cell_type": "code",
      "execution_count": 4,
      "metadata": {
        "id": "SqwF--jCsLVi"
      },
      "outputs": [],
      "source": [
        "def aggiungi_gun_id(file_input, file_output):\n",
        "    with open(file_input, 'r') as csv_file:\n",
        "        csv_reader = csv.reader(csv_file)\n",
        "        header = next(csv_reader)  \n",
        "\n",
        "        righe = []\n",
        "        for i, riga in enumerate(csv_reader):\n",
        "            gun_id = str(i)\n",
        "            righe.append([gun_id] + riga)\n",
        "\n",
        "    with open(file_output, 'w', newline='') as csv_output_file:\n",
        "        csv_writer = csv.writer(csv_output_file)\n",
        "        header.insert(0, \"gun_id\")  \n",
        "        csv_writer.writerow(header) \n",
        "\n",
        "        for riga in righe:\n",
        "            csv_writer.writerow(riga)\n",
        "\n",
        "file_input = \"/content/Gun_temp.csv\"\n",
        "file_output = \"/content/Gun.csv\"\n",
        "aggiungi_gun_id(file_input, file_output)"
      ]
    },
    {
      "cell_type": "markdown",
      "metadata": {
        "id": "sEjLxyDY2tgi"
      },
      "source": [
        "File Geography"
      ]
    },
    {
      "cell_type": "code",
      "execution_count": 5,
      "metadata": {
        "id": "kFDUMq652-jl"
      },
      "outputs": [],
      "source": [
        "def file_csv_geo(file_input, file_output):\n",
        "    righe_distinte = set()  \n",
        "\n",
        "    with open(file_input, 'r') as csv_file:\n",
        "        csv_reader = csv.DictReader(csv_file)\n",
        "\n",
        "        for riga in csv_reader:\n",
        "            chiave_distinta = (riga[\"latitude\"], riga[\"longitude\"])\n",
        "            righe_distinte.add(chiave_distinta)\n",
        "\n",
        "    with open(file_output, 'w', newline='') as csv_output_file:\n",
        "        fieldnames = [\"latitude\", \"longitude\"]\n",
        "        csv_writer = csv.DictWriter(csv_output_file, fieldnames=fieldnames)\n",
        "        csv_writer.writeheader()\n",
        "\n",
        "        for chiave_distinta in righe_distinte:\n",
        "            attributo1, attributo2= chiave_distinta\n",
        "            csv_writer.writerow({\"latitude\": attributo1, \"longitude\": attributo2})\n",
        "\n",
        "\n",
        "file_input = \"/content/Police.csv\"\n",
        "file_output = \"/content/Geography_temp.csv\"\n",
        "file_csv_geo(file_input, file_output)"
      ]
    },
    {
      "cell_type": "code",
      "execution_count": 6,
      "metadata": {
        "id": "TkbRV2p73Cso"
      },
      "outputs": [],
      "source": [
        "def aggiungi_geo_id(file_input, file_output):\n",
        "    with open(file_input, 'r') as csv_file:\n",
        "        csv_reader = csv.reader(csv_file)\n",
        "        header = next(csv_reader) \n",
        "\n",
        "        righe = []\n",
        "        for i, riga in enumerate(csv_reader):\n",
        "            geo_id = str(i)\n",
        "            righe.append([geo_id] + riga)\n",
        "\n",
        "    with open(file_output, 'w', newline='') as csv_output_file:\n",
        "        csv_writer = csv.writer(csv_output_file)\n",
        "        header.insert(0, \"geo_id\")  \n",
        "        csv_writer.writerow(header)  \n",
        "\n",
        "        for riga in righe:\n",
        "            csv_writer.writerow(riga)\n",
        "\n",
        "file_input = \"/content/Geography_temp.csv\"\n",
        "file_output = \"/content/Geography.csv\"\n",
        "aggiungi_geo_id(file_input, file_output)"
      ]
    }
  ],
  "metadata": {
    "colab": {
      "provenance": []
    },
    "kernelspec": {
      "display_name": "Python 3",
      "name": "python3"
    },
    "language_info": {
      "name": "python"
    }
  },
  "nbformat": 4,
  "nbformat_minor": 0
}

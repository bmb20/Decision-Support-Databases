{
  "nbformat": 4,
  "nbformat_minor": 0,
  "metadata": {
    "colab": {
      "provenance": []
    },
    "kernelspec": {
      "name": "python3",
      "display_name": "Python 3"
    },
    "language_info": {
      "name": "python"
    }
  },
  "cells": [
    {
      "cell_type": "markdown",
      "source": [
        "File Partecipant"
      ],
      "metadata": {
        "id": "-DUmLJVQrruw"
      }
    },
    {
      "cell_type": "code",
      "execution_count": 1,
      "metadata": {
        "id": "QHhDV6J9l412"
      },
      "outputs": [],
      "source": [
        "import csv\n",
        "\n",
        "def file_csv_partecipant(file_input, file_output):\n",
        "    righe_distinte = set()  # Utilizziamo un set per tenere traccia delle righe distinte\n",
        "\n",
        "    with open(file_input, 'r') as csv_file:\n",
        "        csv_reader = csv.DictReader(csv_file)\n",
        "\n",
        "        for riga in csv_reader:\n",
        "            chiave_distinta = (riga[\"participant_age_group\"], riga[\"participant_gender\"], riga[\"participant_status\"], riga[\"participant_type\"])\n",
        "            righe_distinte.add(chiave_distinta)\n",
        "\n",
        "    with open(file_output, 'w', newline='') as csv_output_file:\n",
        "        fieldnames = [\"participant_age_group\", \"participant_gender\", \"participant_status\", \"participant_type\"]\n",
        "        csv_writer = csv.DictWriter(csv_output_file, fieldnames=fieldnames)\n",
        "        csv_writer.writeheader()\n",
        "\n",
        "        for chiave_distinta in righe_distinte:\n",
        "            attributo1, attributo2, attributo3, attributo4 = chiave_distinta\n",
        "            csv_writer.writerow({\"participant_age_group\": attributo1, \"participant_gender\": attributo2, \"participant_status\": attributo3, \"participant_type\": attributo4})\n",
        "\n",
        "\n",
        "file_input = \"/content/Police.csv\"\n",
        "file_output = \"/content/Participant_temp.csv\"\n",
        "file_csv_partecipant(file_input, file_output)\n"
      ]
    },
    {
      "cell_type": "code",
      "source": [
        "def aggiungi_participant_id(file_input, file_output):\n",
        "    with open(file_input, 'r') as csv_file:\n",
        "        csv_reader = csv.reader(csv_file)\n",
        "        header = next(csv_reader)  # Legge l'intestazione del file\n",
        "\n",
        "        righe = []\n",
        "        for i, riga in enumerate(csv_reader):\n",
        "            participant_id = str(i)\n",
        "            righe.append([participant_id] + riga)\n",
        "\n",
        "    with open(file_output, 'w', newline='') as csv_output_file:\n",
        "        csv_writer = csv.writer(csv_output_file)\n",
        "        header.insert(0, \"participant_id\")  # Inserisce il nome della nuova colonna nell'intestazione\n",
        "        csv_writer.writerow(header)  # Scrive l'intestazione\n",
        "\n",
        "        for riga in righe:\n",
        "            csv_writer.writerow(riga)\n",
        "\n",
        "file_input = \"/content/Participant_temp.csv\"\n",
        "file_output = \"/content/Participant.csv\"\n",
        "aggiungi_participant_id(file_input, file_output)\n"
      ],
      "metadata": {
        "id": "tH3F5h7erIOg"
      },
      "execution_count": 2,
      "outputs": []
    },
    {
      "cell_type": "markdown",
      "source": [
        "File Gun"
      ],
      "metadata": {
        "id": "0gUM8CEUrwQN"
      }
    },
    {
      "cell_type": "code",
      "source": [
        "def file_csv_gun(file_input, file_output):\n",
        "    righe_distinte = set()  # Utilizziamo un set per tenere traccia delle righe distinte poiché il set può contenere solo valori unici\n",
        "\n",
        "    with open(file_input, 'r') as csv_file:\n",
        "        csv_reader = csv.DictReader(csv_file)\n",
        "\n",
        "        for riga in csv_reader:\n",
        "            chiave_distinta = (riga[\"gun_stolen\"], riga[\"gun_type\"])\n",
        "            righe_distinte.add(chiave_distinta)\n",
        "\n",
        "    with open(file_output, 'w', newline='') as csv_output_file:\n",
        "        fieldnames = [\"gun_stolen\", \"gun_type\"]\n",
        "        csv_writer = csv.DictWriter(csv_output_file, fieldnames=fieldnames)\n",
        "        csv_writer.writeheader()\n",
        "\n",
        "        for chiave_distinta in righe_distinte:\n",
        "            attributo1, attributo2= chiave_distinta\n",
        "            csv_writer.writerow({\"gun_stolen\": attributo1, \"gun_type\": attributo2})\n",
        "\n",
        "\n",
        "file_input = \"/content/Police.csv\"\n",
        "file_output = \"/content/Gun_temp.csv\"\n",
        "file_csv_gun(file_input, file_output)"
      ],
      "metadata": {
        "id": "oliAr8PYr0Ny"
      },
      "execution_count": 3,
      "outputs": []
    },
    {
      "cell_type": "code",
      "source": [
        "def aggiungi_gun_id(file_input, file_output):\n",
        "    with open(file_input, 'r') as csv_file:\n",
        "        csv_reader = csv.reader(csv_file)\n",
        "        header = next(csv_reader)  # Legge l'intestazione del file\n",
        "\n",
        "        righe = []\n",
        "        for i, riga in enumerate(csv_reader):\n",
        "            gun_id = str(i)\n",
        "            righe.append([gun_id] + riga)\n",
        "\n",
        "    with open(file_output, 'w', newline='') as csv_output_file:\n",
        "        csv_writer = csv.writer(csv_output_file)\n",
        "        header.insert(0, \"gun_id\")  # Inserisce il nome della nuova colonna nell'intestazione\n",
        "        csv_writer.writerow(header)  # Scrive l'intestazione\n",
        "\n",
        "        for riga in righe:\n",
        "            csv_writer.writerow(riga)\n",
        "\n",
        "file_input = \"/content/Gun_temp.csv\"\n",
        "file_output = \"/content/Gun.csv\"\n",
        "aggiungi_gun_id(file_input, file_output)"
      ],
      "metadata": {
        "id": "SqwF--jCsLVi"
      },
      "execution_count": 4,
      "outputs": []
    },
    {
      "cell_type": "markdown",
      "source": [
        "File Geography"
      ],
      "metadata": {
        "id": "sEjLxyDY2tgi"
      }
    },
    {
      "cell_type": "code",
      "source": [
        "def file_csv_geo(file_input, file_output):\n",
        "    righe_distinte = set()  # Utilizziamo un set per tenere traccia delle righe distinte poiché il set può contenere solo valori unici\n",
        "\n",
        "    with open(file_input, 'r') as csv_file:\n",
        "        csv_reader = csv.DictReader(csv_file)\n",
        "\n",
        "        for riga in csv_reader:\n",
        "            chiave_distinta = (riga[\"latitude\"], riga[\"longitude\"])\n",
        "            righe_distinte.add(chiave_distinta)\n",
        "\n",
        "    with open(file_output, 'w', newline='') as csv_output_file:\n",
        "        fieldnames = [\"latitude\", \"longitude\"]\n",
        "        csv_writer = csv.DictWriter(csv_output_file, fieldnames=fieldnames)\n",
        "        csv_writer.writeheader()\n",
        "\n",
        "        for chiave_distinta in righe_distinte:\n",
        "            attributo1, attributo2= chiave_distinta\n",
        "            csv_writer.writerow({\"latitude\": attributo1, \"longitude\": attributo2})\n",
        "\n",
        "\n",
        "file_input = \"/content/Police.csv\"\n",
        "file_output = \"/content/Geography_temp.csv\"\n",
        "file_csv_geo(file_input, file_output)"
      ],
      "metadata": {
        "id": "kFDUMq652-jl"
      },
      "execution_count": 5,
      "outputs": []
    },
    {
      "cell_type": "code",
      "source": [
        "def aggiungi_geo_id(file_input, file_output):\n",
        "    with open(file_input, 'r') as csv_file:\n",
        "        csv_reader = csv.reader(csv_file)\n",
        "        header = next(csv_reader)  # Legge l'intestazione del file\n",
        "\n",
        "        righe = []\n",
        "        for i, riga in enumerate(csv_reader):\n",
        "            geo_id = str(i)\n",
        "            righe.append([geo_id] + riga)\n",
        "\n",
        "    with open(file_output, 'w', newline='') as csv_output_file:\n",
        "        csv_writer = csv.writer(csv_output_file)\n",
        "        header.insert(0, \"geo_id\")  # Inserisce il nome della nuova colonna nell'intestazione\n",
        "        csv_writer.writerow(header)  # Scrive l'intestazione\n",
        "\n",
        "        for riga in righe:\n",
        "            csv_writer.writerow(riga)\n",
        "\n",
        "file_input = \"/content/Geography_temp.csv\"\n",
        "file_output = \"/content/Geography.csv\"\n",
        "aggiungi_geo_id(file_input, file_output)"
      ],
      "metadata": {
        "id": "TkbRV2p73Cso"
      },
      "execution_count": 6,
      "outputs": []
    }
  ]
}
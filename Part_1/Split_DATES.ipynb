{
  "cells": [
    {
      "cell_type": "code",
      "execution_count": null,
      "metadata": {
        "id": "64PxQdRiPUZR"
      },
      "outputs": [],
      "source": [
        "import csv\n",
        "import xml"
      ]
    },
    {
      "cell_type": "markdown",
      "metadata": {
        "id": "-9-vsGbeTItp"
      },
      "source": [
        "XML to CSV"
      ]
    },
    {
      "cell_type": "code",
      "execution_count": null,
      "metadata": {
        "id": "2Bl7l-wYSLnD"
      },
      "outputs": [],
      "source": [
        "import xml.etree.ElementTree as ET\n",
        "\n",
        "#Function to extract data from XML file and write to CSV file\n",
        "def conversion(xml_file, csv_file):\n",
        "    tree = ET.parse(xml_file)\n",
        "    root = tree.getroot()\n",
        "\n",
        "    with open(csv_file, 'w', newline='') as csvfile:\n",
        "        csvwriter = csv.writer(csvfile)\n",
        "\n",
        "        #heading of the csv\n",
        "        headers = []\n",
        "        for item in root[0]:\n",
        "            headers.append(item.tag)\n",
        "        csvwriter.writerow(headers)\n",
        "\n",
        "        #write data in the CSV\n",
        "        for element in root:\n",
        "            row = []\n",
        "            for item in element:\n",
        "                row.append(item.text)\n",
        "            csvwriter.writerow(row)\n",
        "\n",
        "#path of the xml and csv files\n",
        "xml_file = '/content/dates.xml'\n",
        "csv_file = '/content/coverted_dates.csv'\n",
        "\n",
        "conversion(xml_file, csv_file)"
      ]
    },
    {
      "cell_type": "markdown",
      "metadata": {
        "id": "MDON2Qj4TqXO"
      },
      "source": [
        "Division of the date present in the Dates file into: month, day and year"
      ]
    },
    {
      "cell_type": "code",
      "execution_count": null,
      "metadata": {
        "id": "HyQ5Z0TzWO_b"
      },
      "outputs": [],
      "source": [
        "#path of the csv file\n",
        "csv_file = '/content/coverted_dates.csv'\n",
        "\n",
        "#open csv file in reading mode\n",
        "with open(csv_file, 'r', newline='') as csvfile:\n",
        "    csvreader = csv.reader(csvfile)\n",
        "\n",
        "    #create a new list for rows with split data\n",
        "    rows_with_split_data = []\n",
        "\n",
        "    #for each row in the csv file\n",
        "    for row in csvreader:\n",
        "        #divide the contents of the first column\n",
        "        #and add the split parts as new columns\n",
        "        split_data = row[0].split('-')\n",
        "        part1 = split_data[0] if len(split_data) > 0 else \"\"\n",
        "        part2 = split_data[1] if len(split_data) > 1 else \"\"\n",
        "        part3 = split_data[2] if len(split_data) > 2 else \"\"\n",
        "        part3_1 = part3.split(\" \")\n",
        "\n",
        "        #this \"if\" is for the name of the columns\n",
        "        if part1 == 'date':\n",
        "          part1 = 'year'\n",
        "          part2 = 'month'\n",
        "          part3_1[0] = 'day'\n",
        "        #Create a new row with the split data and the remaining data from the other columns\n",
        "        new_row = [part1, part2, part3_1[0]] + row[1:]\n",
        "\n",
        "        #Add this new row to the list of rows with split data\n",
        "        rows_with_split_data.append(new_row)"
      ]
    },
    {
      "cell_type": "code",
      "execution_count": null,
      "metadata": {
        "colab": {
          "base_uri": "https://localhost:8080/"
        },
        "id": "_9qgLNX3pTPp",
        "outputId": "a3e74f83-a092-44cc-ad34-07b95df506cf"
      },
      "outputs": [
        {
          "name": "stdout",
          "output_type": "stream",
          "text": [
            "I dati sono stati scritti nel file CSV: dates_suddivisi.csv\n"
          ]
        }
      ],
      "source": [
        "#path of the new csv file with the split data\n",
        "csv_file = '/content/split_dates.csv'\n",
        "\n",
        "# Scrivi i dati nella lista in un file CSV\n",
        "with open(csv_file, 'w', newline='') as csvfile:\n",
        "    csvwriter = csv.writer(csvfile)\n",
        "\n",
        "    # Scrivi ogni riga della lista nel file CSV\n",
        "    for row in rows_with_split_data:\n",
        "        csvwriter.writerow(row)"
      ]
    },
    {
      "cell_type": "markdown",
      "metadata": {
        "id": "Uz4-IHuvT7_J"
      },
      "source": [
        "Deduction of the day of the week and the quarter of the year from the csv file obtained with the split data"
      ]
    },
    {
      "cell_type": "code",
      "execution_count": null,
      "metadata": {
        "id": "2FrW7cjmhm7l"
      },
      "outputs": [],
      "source": [
        "from datetime import datetime\n",
        "\n",
        "#open csv file in reading mode\n",
        "with open('/content/split_dates.csv', 'r') as csv_file:\n",
        "    csv_reader = csv.reader(csv_file)\n",
        "\n",
        "    #read the heading\n",
        "    header = next(csv_reader)\n",
        "\n",
        "    #add names of the new columns\n",
        "    header.append('Day of the week')\n",
        "    header.append('Quarter')\n",
        "\n",
        "    #open a new file csv in writing mode\n",
        "    with open('/content/Date.csv', 'w', newline='') as new_csv_file:\n",
        "        csv_writer = csv.writer(new_csv_file)\n",
        "\n",
        "        #write the heading of the new file\n",
        "        csv_writer.writerow(header)\n",
        "\n",
        "        #for each row in the csv original file:\n",
        "        for row in csv_reader:\n",
        "            #extract day, month and year from the columns, with the conversion in int\n",
        "            year = int(row[0])\n",
        "            month = int(row[1])\n",
        "            day = int(row[2])\n",
        "\n",
        "            #Create a complete date with datetime\n",
        "            complete_date = datetime(year, month, day)\n",
        "\n",
        "            #get the day of the week as a string\n",
        "            day_of_the_week = complete_date.strftime('%A')\n",
        "\n",
        "            #get the quarter of the year\n",
        "            quarter = (complete_date.month - 1) // 3 + 1\n",
        "\n",
        "            #add the day of the week and the quarter to the row\n",
        "            row.append(day_of_the_week)\n",
        "            row.append(quarto_anno)\n",
        "\n",
        "            #write the updated row in the new csv file\n",
        "            csv_writer.writerow(row)\n"
      ]
    }
  ],
  "metadata": {
    "colab": {
      "provenance": []
    },
    "kernelspec": {
      "display_name": "Python 3",
      "name": "python3"
    },
    "language_info": {
      "name": "python"
    }
  },
  "nbformat": 4,
  "nbformat_minor": 0
}

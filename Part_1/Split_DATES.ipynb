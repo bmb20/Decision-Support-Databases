{
  "cells": [
    {
      "cell_type": "code",
      "execution_count": null,
      "metadata": {
        "id": "64PxQdRiPUZR"
      },
      "outputs": [],
      "source": [
        "import csv\n",
        "import xml"
      ]
    },
    {
      "cell_type": "markdown",
      "metadata": {
        "id": "-9-vsGbeTItp"
      },
      "source": [
        "XML to CSV"
      ]
    },
    {
      "cell_type": "code",
      "execution_count": null,
      "metadata": {
        "id": "2Bl7l-wYSLnD"
      },
      "outputs": [],
      "source": [
        "import xml.etree.ElementTree as ET\n",
        "\n",
        "#Funzione per estrarre i dati dal file XML e convertili nel file CSV \n",
        "def conversion(xml_file, csv_file):\n",
        "    tree = ET.parse(xml_file)\n",
        "    root = tree.getroot()\n",
        "\n",
        "    with open(csv_file, 'w', newline='') as csvfile:\n",
        "        csvwriter = csv.writer(csvfile)\n",
        "\n",
        "        #heading del csv\n",
        "        headers = []\n",
        "        for item in root[0]:\n",
        "            headers.append(item.tag)\n",
        "        csvwriter.writerow(headers)\n",
        "\n",
        "        #scrittura dati nel file CSV\n",
        "        for element in root:\n",
        "            row = []\n",
        "            for item in element:\n",
        "                row.append(item.text)\n",
        "            csvwriter.writerow(row)\n",
        "\n",
        "#path dei file xml e csv \n",
        "xml_file = '/content/dates.xml'\n",
        "csv_file = '/content/coverted_dates.csv'\n",
        "\n",
        "conversion(xml_file, csv_file)"
      ]
    },
    {
      "cell_type": "markdown",
      "metadata": {
        "id": "MDON2Qj4TqXO"
      },
      "source": [
        "Division of the date present in the Dates file into: month, day and year"
      ]
    },
    {
      "cell_type": "code",
      "execution_count": null,
      "metadata": {
        "id": "HyQ5Z0TzWO_b"
      },
      "outputs": [],
      "source": [
        "#path del file csv\n",
        "csv_file = '/content/coverted_dates.csv'\n",
        "\n",
        "#apertura file csv nella modalità lettura \n",
        "with open(csv_file, 'r', newline='') as csvfile:\n",
        "    csvreader = csv.reader(csvfile)\n",
        "\n",
        "    #creazione di una nuova lista per le righe con i dati suddivisi\n",
        "    rows_with_split_data = []\n",
        "\n",
        "    for row in csvreader:\n",
        "        #divisione del contenuto della prima colonna e aggiunta delle parti divise come nuove colonne\n",
        "        split_data = row[0].split('-')\n",
        "        part1 = split_data[0] if len(split_data) > 0 else \"\"\n",
        "        part2 = split_data[1] if len(split_data) > 1 else \"\"\n",
        "        part3 = split_data[2] if len(split_data) > 2 else \"\"\n",
        "        part3_1 = part3.split(\" \")\n",
        "\n",
        "        #questo \"if\" è per il nome/intestazione delle colonne \n",
        "        if part1 == 'date':\n",
        "          part1 = 'year'\n",
        "          part2 = 'month'\n",
        "          part3_1[0] = 'day'\n",
        "        #Creazione di una nuova riga con i dati suddivisi + i dati delle altre colonne già presenti nel file\n",
        "        new_row = [part1, part2, part3_1[0]] + row[1:]\n",
        "\n",
        "        #Aggiunta della nuova riga alla lista delle righe con i dati suddivisi \n",
        "        rows_with_split_data.append(new_row)"
      ]
    },
    {
      "cell_type": "code",
      "execution_count": null,
      "metadata": {
        "colab": {
          "base_uri": "https://localhost:8080/"
        },
        "id": "_9qgLNX3pTPp",
        "outputId": "a3e74f83-a092-44cc-ad34-07b95df506cf"
      },
      "outputs": [
        {
          "name": "stdout",
          "output_type": "stream",
          "text": [
            "I dati sono stati scritti nel file CSV: dates_suddivisi.csv\n"
          ]
        }
      ],
      "source": [
        "#path del nuovo file csv con i file suddivisi\n",
        "csv_file = '/content/split_dates.csv'\n",
        "\n",
        "#Scrittura dei dati della lista in un file CSV\n",
        "with open(csv_file, 'w', newline='') as csvfile:\n",
        "    csvwriter = csv.writer(csvfile)\n",
        "\n",
        "    for row in rows_with_split_data:\n",
        "        csvwriter.writerow(row)"
      ]
    },
    {
      "cell_type": "markdown",
      "metadata": {
        "id": "Uz4-IHuvT7_J"
      },
      "source": [
        "Deduction of the day of the week and the quarter of the year from the csv file obtained with the split data"
      ]
    },
    {
      "cell_type": "code",
      "execution_count": null,
      "metadata": {
        "id": "2FrW7cjmhm7l"
      },
      "outputs": [],
      "source": [
        "from datetime import datetime\n",
        "\n",
        "#apertura file csv in modalità lettura\n",
        "with open('/content/split_dates.csv', 'r') as csv_file:\n",
        "    csv_reader = csv.reader(csv_file)\n",
        "\n",
        "    header = next(csv_reader)\n",
        "\n",
        "    #aggiunta dei nomi/intestazioni delle due nuove colonne all'header\n",
        "    header.append('Day of the week')\n",
        "    header.append('Quarter')\n",
        "\n",
        "    #apertura del nuovo file finale in modalità scrittura\n",
        "    with open('/content/Date.csv', 'w', newline='') as new_csv_file:\n",
        "        csv_writer = csv.writer(new_csv_file)\n",
        "\n",
        "        #scrittura heading del nuovo file\n",
        "        csv_writer.writerow(header)\n",
        "\n",
        "        #per ogni riga nel file csv originale: \n",
        "        for row in csv_reader:\n",
        "            #estraggo giorno, mese e anno dalle colonne\n",
        "            year = int(row[0])\n",
        "            month = int(row[1])\n",
        "            day = int(row[2])\n",
        "\n",
        "            #Creazione di una data completa con datatime\n",
        "            complete_date = datetime(year, month, day)\n",
        "\n",
        "            #per ottenere il giorno della settimana come una stringa \n",
        "            day_of_the_week = complete_date.strftime('%A')\n",
        "\n",
        "            #per ottenere il quarto dell'anno \n",
        "            quarter = (complete_date.month - 1) // 3 + 1\n",
        "\n",
        "            #aggiunta del giorno della settimana e del quarto alla riga \n",
        "            row.append(day_of_the_week)\n",
        "            row.append(quarto_anno)\n",
        "\n",
        "            #scrittura della riga aggiornata nel nuovo file csv \n",
        "            csv_writer.writerow(row)\n"
      ]
    }
  ],
  "metadata": {
    "colab": {
      "provenance": []
    },
    "kernelspec": {
      "display_name": "Python 3",
      "name": "python3"
    },
    "language_info": {
      "name": "python"
    }
  },
  "nbformat": 4,
  "nbformat_minor": 0
}

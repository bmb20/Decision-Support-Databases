{
  "cells": [
    {
      "cell_type": "code",
      "source": [
        "import csv\n",
        "import json"
      ],
      "metadata": {
        "id": "OxuF5Zh0dlZ3"
      },
      "execution_count": 8,
      "outputs": []
    },
    {
      "cell_type": "markdown",
      "source": [
        "Code to calculate Crime Gravity and then create a new file with Crime Gravity."
      ],
      "metadata": {
        "id": "AGOHzpukNouz"
      }
    },
    {
      "cell_type": "code",
      "source": [
        "#Upload dates form the JSON files\n",
        "with open('/content/dict_partecipant_age.json', 'r') as f1_file:\n",
        "    age_data = json.load(f1_file)\n",
        "\n",
        "with open('/content/dict_partecipant_status.json', 'r') as f2_file:\n",
        "    status_data = json.load(f2_file)\n",
        "\n",
        "with open('/content/dict_partecipant_type.json', 'r') as f3_file:\n",
        "    type_data = json.load(f3_file)\n",
        "\n",
        "#Open \"police.csv\" in reading mode\n",
        "with open('/content/Police.csv', 'r') as input_file, open('/content/Police_temp.csv', 'w', newline='') as output_file:\n",
        "    csv_reader = csv.DictReader(input_file)\n",
        "\n",
        "    #Extract the headers from the input CSV file\n",
        "    headers = csv_reader.fieldnames\n",
        "    headers.append('crime_gravity')  #Add new column name\n",
        "\n",
        "    #Create the writer for the CSV output file\n",
        "    csv_writer = csv.DictWriter(output_file, fieldnames=headers)\n",
        "    csv_writer.writeheader()\n",
        "\n",
        "    for row in csv_reader:\n",
        "        #Extract values ​​from record fields\n",
        "        participant_age = row['participant_age_group']\n",
        "        participant_type = row['participant_type']\n",
        "        participant_status = row['participant_status']\n",
        "\n",
        "        #calculate \"Crime Gravity\" using dates of JSON files\n",
        "        crime_gravity = (\n",
        "            age_data.get(participant_age, 0) *\n",
        "            status_data.get(participant_status, 0) *\n",
        "            type_data.get(participant_type, 0)\n",
        "        )\n",
        "\n",
        "        #Add new values\n",
        "        row['crime_gravity'] = crime_gravity\n",
        "\n",
        "        #Write the record in the CSV output file\n",
        "        csv_writer.writerow(row)\n"
      ],
      "metadata": {
        "id": "ycYyO6ZWdB3B"
      },
      "execution_count": 9,
      "outputs": []
    },
    {
      "cell_type": "markdown",
      "source": [
        "Code to add the missing_ids as foreign key in the Police file for the Custody table."
      ],
      "metadata": {
        "id": "Q5DMMRpNPrVF"
      }
    },
    {
      "cell_type": "code",
      "source": [
        "def aggiungi_missingIDs(file_participant, file_gun, file_geography, file_police, file_output):\n",
        "    participant_data = {}\n",
        "    gun_data = {}\n",
        "    geography_data = {}\n",
        "\n",
        "    # Leggi il file \"participant.csv\" e crea un dizionario con le colonne di confronto come chiave\n",
        "    with open(file_participant, 'r') as participant_file:\n",
        "        participant_reader = csv.DictReader(participant_file)\n",
        "        for row in participant_reader:\n",
        "            key = (row[\"participant_age_group\"], row[\"participant_status\"], row[\"participant_type\"], row[\"participant_gender\"])\n",
        "            participant_data[key] = row[\"participant_id\"]\n",
        "\n",
        "    # Leggi il file \"gun.csv\" e crea un dizionario con le colonne di confronto come chiave\n",
        "    with open(file_gun, 'r') as gun_file:\n",
        "        gun_reader = csv.DictReader(gun_file)\n",
        "        for row in gun_reader:\n",
        "            key = (row[\"gun_stolen\"], row[\"gun_type\"])\n",
        "            gun_data[key] = row[\"gun_id\"]\n",
        "\n",
        "    # Leggi il file \"geography.csv\" e crea un dizionario con le colonne di confronto come chiave\n",
        "    with open(file_geography, 'r') as geography_file:\n",
        "        geography_reader = csv.DictReader(geography_file)\n",
        "        for row in geography_reader:\n",
        "            key = (row[\"latitude\"], row[\"longitude\"])\n",
        "            geography_data[key] = row[\"geo_id\"]\n",
        "\n",
        "    # Apri il file \"police.csv\" in modalità lettura\n",
        "    with open(file_police, 'r') as police_file:\n",
        "        police_reader = csv.DictReader(police_file)\n",
        "\n",
        "        # Prendi l'intestazione dal file \"police.csv\" e aggiungi le nuove colonne\n",
        "        header = police_reader.fieldnames\n",
        "        header.extend([\"participant_id\", \"gun_id\", \"geo_id\"])\n",
        "\n",
        "        # Apri il file di output in modalità scrittura\n",
        "        with open(file_output, 'w', newline='') as output_file:\n",
        "            csv_writer = csv.DictWriter(output_file, fieldnames=header)\n",
        "            csv_writer.writeheader()\n",
        "\n",
        "            for row in police_reader:\n",
        "                participant_key = (row[\"participant_age_group\"], row[\"participant_status\"], row[\"participant_type\"], row[\"participant_gender\"])\n",
        "                gun_key = (row[\"gun_stolen\"], row[\"gun_type\"])\n",
        "                geography_key = (row[\"latitude\"], row[\"longitude\"])\n",
        "\n",
        "                # Aggiungi i valori delle colonne \"participant_id\", \"gun_id\", e \"geography_id\" dai rispettivi dizionari\n",
        "                row[\"participant_id\"] = participant_data.get(participant_key, \"\")\n",
        "                row[\"gun_id\"] = gun_data.get(gun_key, \"\")\n",
        "                row[\"geo_id\"] = geography_data.get(geography_key, \"\")\n",
        "\n",
        "                csv_writer.writerow(row)\n",
        "\n",
        "file_participant = \"/content/Participant.csv\"\n",
        "file_gun = \"/content/Gun.csv\"\n",
        "file_geography = \"/content/Geography.csv\"\n",
        "file_police = \"/content/Police_temp.csv\"\n",
        "file_output = \"/content/Police_final.csv\"\n",
        "aggiungi_missingIDs(file_participant, file_gun, file_geography, file_police, file_output)"
      ],
      "metadata": {
        "id": "BaCvyvZjL0-K"
      },
      "execution_count": 10,
      "outputs": []
    }
  ],
  "metadata": {
    "colab": {
      "provenance": []
    },
    "kernelspec": {
      "display_name": "Python 3",
      "name": "python3"
    }
  },
  "nbformat": 4,
  "nbformat_minor": 0
}